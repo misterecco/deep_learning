{
 "cells": [
  {
   "cell_type": "code",
   "execution_count": 1,
   "metadata": {
    "collapsed": false,
    "deletable": true,
    "editable": true
   },
   "outputs": [],
   "source": [
    "%matplotlib inline\n",
    "import tensorflow as tf\n",
    "import numpy as np\n",
    "import matplotlib.pyplot as plt\n",
    "import seaborn"
   ]
  },
  {
   "cell_type": "markdown",
   "metadata": {
    "deletable": true,
    "editable": true
   },
   "source": [
    "Example: Create a graph that will compute elementwise sum of two input vectors"
   ]
  },
  {
   "cell_type": "code",
   "execution_count": 2,
   "metadata": {
    "collapsed": false,
    "deletable": true,
    "editable": true
   },
   "outputs": [
    {
     "name": "stdout",
     "output_type": "stream",
     "text": [
      "[ 1.  2.]\n"
     ]
    }
   ],
   "source": [
    "tf.reset_default_graph()\n",
    "a_value = [0.0, 1.0]\n",
    "b_value = [1.0, 1.0]\n",
    "a = tf.placeholder(dtype=tf.float32, name='a')\n",
    "b = tf.placeholder(dtype=tf.float32, name='b')\n",
    "c = a + b\n",
    "with tf.Session() as sess:\n",
    "    print(sess.run(c, feed_dict={a: a_value, b: b_value }))"
   ]
  },
  {
   "cell_type": "markdown",
   "metadata": {
    "deletable": true,
    "editable": true
   },
   "source": [
    "Task 1. Create a graph that will compute dot product of two input vectors"
   ]
  },
  {
   "cell_type": "code",
   "execution_count": 3,
   "metadata": {
    "collapsed": false,
    "deletable": true,
    "editable": true
   },
   "outputs": [
    {
     "name": "stdout",
     "output_type": "stream",
     "text": [
      "12.0\n"
     ]
    }
   ],
   "source": [
    "tf.reset_default_graph()\n",
    "a_value = [3.0, 1.0]\n",
    "b_value = [3.0, 3.0]\n",
    "a = tf.placeholder(dtype=tf.float32)\n",
    "b = tf.placeholder(dtype=tf.float32)\n",
    "\n",
    "c = tf.reduce_sum(a * b)\n",
    "\n",
    "with tf.Session() as sess:\n",
    "    print(sess.run(c, feed_dict={a: a_value, b: b_value}))"
   ]
  },
  {
   "cell_type": "markdown",
   "metadata": {
    "collapsed": true,
    "deletable": true,
    "editable": true
   },
   "source": [
    "Task 2. Create a graph that given matrix $A$, returns a vector with sums over the second dimension."
   ]
  },
  {
   "cell_type": "code",
   "execution_count": 4,
   "metadata": {
    "collapsed": false,
    "deletable": true,
    "editable": true
   },
   "outputs": [
    {
     "name": "stdout",
     "output_type": "stream",
     "text": [
      "[  7.  15.   8.]\n"
     ]
    }
   ],
   "source": [
    "tf.reset_default_graph()\n",
    "a_value = [\n",
    "    [3.0, 1.0, 2.0],\n",
    "    [1.0, 13.0, 4.0],\n",
    "    [3.0, 1.0, 2.0]\n",
    "    ]\n",
    "    \n",
    "a = tf.placeholder(dtype=tf.float32)\n",
    "c = tf.reduce_sum(a, 0)\n",
    "\n",
    "with tf.Session() as sess:\n",
    "    print(sess.run(c, feed_dict={a: a_value}))"
   ]
  },
  {
   "cell_type": "markdown",
   "metadata": {
    "collapsed": false,
    "deletable": true,
    "editable": true
   },
   "source": [
    "Task 3. Apply relu, sigmoid, tanh to x"
   ]
  },
  {
   "cell_type": "code",
   "execution_count": 5,
   "metadata": {
    "collapsed": false,
    "deletable": true,
    "editable": true,
    "scrolled": true
   },
   "outputs": [
    {
     "data": {
      "image/png": "[encoded data removed]",
      "text/plain": [
       "<matplotlib.figure.Figure at 0x7fb115433160>"
      ]
     },
     "metadata": {},
     "output_type": "display_data"
    }
   ],
   "source": [
    "x_value = np.linspace(-10., 10., 1000)\n",
    "\n",
    "x = tf.placeholder(dtype=tf.float32)\n",
    "relu = tf.nn.relu(x)\n",
    "sigmoid = tf.nn.sigmoid(x)\n",
    "tanh = tf.nn.tanh(x)\n",
    "\n",
    "with tf.Session() as sess:\n",
    "    feed_dict = {x: x_value}\n",
    "    _relu, _sigmoid, _tanh = sess.run([relu, sigmoid, tanh], feed_dict)\n",
    "    plt.plot(x_value, _relu, label='relu')\n",
    "    plt.plot(x_value, _sigmoid, label='sigmoid')\n",
    "    plt.plot(x_value, _tanh, label='tanh')\n",
    "    plt.legend(bbox_to_anchor=(0.5, 1.0))\n",
    "    plt.show()"
   ]
  },
  {
   "cell_type": "markdown",
   "metadata": {
    "collapsed": true,
    "deletable": true,
    "editable": true
   },
   "source": [
    "Task 4. Create operation to decrease variable $a$ by one"
   ]
  },
  {
   "cell_type": "code",
   "execution_count": 6,
   "metadata": {
    "collapsed": false,
    "deletable": true,
    "editable": true
   },
   "outputs": [
    {
     "name": "stdout",
     "output_type": "stream",
     "text": [
      "9\n",
      "8\n",
      "7\n",
      "6\n",
      "5\n",
      "4\n",
      "3\n",
      "2\n",
      "1\n",
      "0\n"
     ]
    }
   ],
   "source": [
    "a = tf.Variable(10, dtype=tf.int32, name='a')\n",
    "\n",
    "decrese_op = a.assign(a - 1)\n",
    "\n",
    "with tf.Session() as sess:\n",
    "    sess.run(tf.global_variables_initializer())\n",
    "    for _ in range(10):\n",
    "        sess.run(decrese_op)\n",
    "        a_value = sess.run(a)\n",
    "        print(a_value)"
   ]
  },
  {
   "cell_type": "markdown",
   "metadata": {
    "deletable": true,
    "editable": true
   },
   "source": [
    "Task 5. Create operation that returns the shape of the input."
   ]
  },
  {
   "cell_type": "code",
   "execution_count": 7,
   "metadata": {
    "collapsed": false,
    "deletable": true,
    "editable": true
   },
   "outputs": [
    {
     "name": "stdout",
     "output_type": "stream",
     "text": [
      "[3 4]\n"
     ]
    }
   ],
   "source": [
    "tf.reset_default_graph()\n",
    "a_value = [\n",
    "    [3, 7, 2, 1],\n",
    "    [1, 1, 4, 5],\n",
    "    [3, 6, 2, 2],\n",
    "    ]\n",
    "a = tf.placeholder(dtype=tf.int32)\n",
    "\n",
    "c = tf.shape(a)\n",
    "\n",
    "with tf.Session() as sess:\n",
    "    print(sess.run(c, feed_dict={a: a_value}))"
   ]
  },
  {
   "cell_type": "markdown",
   "metadata": {
    "collapsed": true,
    "deletable": true,
    "editable": true
   },
   "source": [
    "Task 6. Create operation to get the first half of r-th row and second half of c-th column of the matrix. (Assume matrix has even dimensions)."
   ]
  },
  {
   "cell_type": "code",
   "execution_count": 21,
   "metadata": {
    "collapsed": false,
    "deletable": true,
    "editable": true
   },
   "outputs": [
    {
     "name": "stdout",
     "output_type": "stream",
     "text": [
      "[[3 6]\n",
      " [6 1]]\n"
     ]
    }
   ],
   "source": [
    "tf.reset_default_graph()\n",
    "a_value = [\n",
    "    [3, 7, 2, 1],\n",
    "    [1, 1, 4, 5],\n",
    "    [3, 6, 2, 2],\n",
    "    [6, 1, 1, 3],\n",
    "    ]\n",
    "\n",
    "r_value = 2\n",
    "c_value = 1\n",
    "    \n",
    "a = tf.placeholder(dtype=tf.int32)\n",
    "r = tf.placeholder(dtype=tf.int32)\n",
    "c = tf.placeholder(dtype=tf.int32)\n",
    "# WRITE YOUR CODE HERE\n",
    "\n",
    "# h = tf.slice(a, [0, tf.to_int32(r)], [tf.to_int32(c), tf.shape(a)[1]])\n",
    "h = tf.slice(a, [tf.to_int32(r), 0], [tf.shape(a)[0] // 2, tf.to_int32(c) + 1])\n",
    "\n",
    "with tf.Session() as sess:\n",
    "    print(sess.run(h, feed_dict={a: a_value, r: r_value, c: c_value}))"
   ]
  },
  {
   "cell_type": "markdown",
   "metadata": {
    "deletable": true,
    "editable": true
   },
   "source": [
    "Task 7. Create operation that returns coordinates of the maximal element in the matrix. "
   ]
  },
  {
   "cell_type": "code",
   "execution_count": 24,
   "metadata": {
    "collapsed": false,
    "deletable": true,
    "editable": true
   },
   "outputs": [
    {
     "name": "stdout",
     "output_type": "stream",
     "text": [
      "17\n"
     ]
    }
   ],
   "source": [
    "tf.reset_default_graph()\n",
    "a_value = [\n",
    "    [3, 7, 2, 1],\n",
    "    [1, 1, 14, 5],\n",
    "    [3, 6, 2, 17],\n",
    "    [6, 9, 1, 3],\n",
    "    ]\n",
    "\n",
    "a = tf.placeholder(dtype=tf.int32)\n",
    "\n",
    "m = tf.argmax(a, dimension, name=None)\n",
    "\n",
    "with tf.Session() as sess:\n",
    "    print(sess.run(m, feed_dict={a: a_value}))"
   ]
  },
  {
   "cell_type": "code",
   "execution_count": null,
   "metadata": {
    "collapsed": true,
    "deletable": true,
    "editable": true
   },
   "outputs": [],
   "source": []
  },
  {
   "cell_type": "code",
   "execution_count": null,
   "metadata": {
    "collapsed": true,
    "deletable": true,
    "editable": true
   },
   "outputs": [],
   "source": []
  }
 ],
 "metadata": {
  "kernelspec": {
   "display_name": "Python 3",
   "language": "python",
   "name": "python3"
  },
  "language_info": {
   "codemirror_mode": {
    "name": "ipython",
    "version": 3
   },
   "file_extension": ".py",
   "mimetype": "text/x-python",
   "name": "python",
   "nbconvert_exporter": "python",
   "pygments_lexer": "ipython3",
   "version": "3.6.0"
  }
 },
 "nbformat": 4,
 "nbformat_minor": 0
}
